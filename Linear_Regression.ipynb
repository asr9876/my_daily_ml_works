{
  "nbformat": 4,
  "nbformat_minor": 0,
  "metadata": {
    "colab": {
      "provenance": [],
      "toc_visible": true,
      "authorship_tag": "ABX9TyPEYaVwKrc0Lufx95mhPW4k",
      "include_colab_link": true
    },
    "kernelspec": {
      "name": "python3",
      "display_name": "Python 3"
    },
    "language_info": {
      "name": "python"
    }
  },
  "cells": [
    {
      "cell_type": "markdown",
      "metadata": {
        "id": "view-in-github",
        "colab_type": "text"
      },
      "source": [
        "<a href=\"https://colab.research.google.com/github/asr9876/my_daily_ml_works/blob/main/Linear_Regression.ipynb\" target=\"_parent\"><img src=\"https://colab.research.google.com/assets/colab-badge.svg\" alt=\"Open In Colab\"/></a>"
      ]
    },
    {
      "cell_type": "code",
      "execution_count": 49,
      "metadata": {
        "id": "zDXyXDiHR6Us"
      },
      "outputs": [],
      "source": [
        "import pandas as pd"
      ]
    },
    {
      "cell_type": "code",
      "source": [
        "from sklearn.datasets import load_iris"
      ],
      "metadata": {
        "id": "y-NhE6I8UyKY"
      },
      "execution_count": 50,
      "outputs": []
    },
    {
      "cell_type": "code",
      "source": [
        "import numpy as np\n",
        "import matplotlib.pyplot as plt"
      ],
      "metadata": {
        "id": "H87IAalESMgr"
      },
      "execution_count": 51,
      "outputs": []
    },
    {
      "cell_type": "code",
      "source": [
        "df = pd.read_csv('UK Regional Population Data.csv')"
      ],
      "metadata": {
        "id": "_Di3yjtcSxP1"
      },
      "execution_count": 52,
      "outputs": []
    },
    {
      "cell_type": "code",
      "source": [
        "df"
      ],
      "metadata": {
        "colab": {
          "base_uri": "https://localhost:8080/",
          "height": 701
        },
        "id": "-VBLvHntTnQK",
        "outputId": "13de5c9c-5da5-44c2-8978-647804c2d15b"
      },
      "execution_count": 53,
      "outputs": [
        {
          "output_type": "execute_result",
          "data": {
            "text/plain": [
              "          Code                     Name                  Geography  \\\n",
              "0    K02000001           UNITED KINGDOM                    Country   \n",
              "1    K03000001            GREAT BRITAIN                    Country   \n",
              "2    K04000001        ENGLAND AND WALES                    Country   \n",
              "3    E92000001                  ENGLAND                    Country   \n",
              "4    E12000001               NORTH EAST                     Region   \n",
              "..         ...                      ...                        ...   \n",
              "415  N09000006      Fermanagh and Omagh  Local Government District   \n",
              "416  N09000007  Lisburn and Castlereagh  Local Government District   \n",
              "417  N09000008      Mid and East Antrim  Local Government District   \n",
              "418  N09000009               Mid Ulster  Local Government District   \n",
              "419  N09000010   Newry, Mourne and Down  Local Government District   \n",
              "\n",
              "     Area (sq km)  Estimated Population mid-2021  2021 people per sq. km  \\\n",
              "0     242740.8699                       67026292              276.122814   \n",
              "1     228947.9193                       65121729              284.439052   \n",
              "2     151046.9877                       59641829              394.856130   \n",
              "3     130310.4699                       56536419              433.859375   \n",
              "4       8580.7865                        2646772              308.453310   \n",
              "..            ...                            ...                     ...   \n",
              "415     2835.9389                         116926               41.230084   \n",
              "416      503.5760                         149272              296.423976   \n",
              "417     1044.5278                         139127              133.196072   \n",
              "418     1823.0343                         150598               82.608429   \n",
              "419     1628.2772                         182345              111.986460   \n",
              "\n",
              "     Estimated Population mid-2011  2011 people per sq. km  \\\n",
              "0                         63285145              260.710712   \n",
              "1                         61470827              268.492621   \n",
              "2                         56170927              371.877175   \n",
              "3                         53107169              407.543377   \n",
              "4                          2596441              302.587764   \n",
              "..                             ...                     ...   \n",
              "415                         113501               40.022371   \n",
              "416                         135280              268.638696   \n",
              "417                         135365              129.594445   \n",
              "418                         139011               76.252542   \n",
              "419                         172276              105.802624   \n",
              "\n",
              "     Estimated Population mid-2001  2001 people per sq. km  \n",
              "0                         59113016              243.523128  \n",
              "1                         57424178              250.817645  \n",
              "2                         52359978              346.646953  \n",
              "3                         49449746              379.476385  \n",
              "4                          2540090              296.020650  \n",
              "..                             ...                     ...  \n",
              "415                         105751               37.289590  \n",
              "416                         124585              247.400591  \n",
              "417                         127452              122.018772  \n",
              "418                         119112               65.337224  \n",
              "419                         153726               94.410215  \n",
              "\n",
              "[420 rows x 10 columns]"
            ],
            "text/html": [
              "\n",
              "  <div id=\"df-ea80da92-0099-45d8-8e34-150af7e7e0ad\" class=\"colab-df-container\">\n",
              "    <div>\n",
              "<style scoped>\n",
              "    .dataframe tbody tr th:only-of-type {\n",
              "        vertical-align: middle;\n",
              "    }\n",
              "\n",
              "    .dataframe tbody tr th {\n",
              "        vertical-align: top;\n",
              "    }\n",
              "\n",
              "    .dataframe thead th {\n",
              "        text-align: right;\n",
              "    }\n",
              "</style>\n",
              "<table border=\"1\" class=\"dataframe\">\n",
              "  <thead>\n",
              "    <tr style=\"text-align: right;\">\n",
              "      <th></th>\n",
              "      <th>Code</th>\n",
              "      <th>Name</th>\n",
              "      <th>Geography</th>\n",
              "      <th>Area (sq km)</th>\n",
              "      <th>Estimated Population mid-2021</th>\n",
              "      <th>2021 people per sq. km</th>\n",
              "      <th>Estimated Population mid-2011</th>\n",
              "      <th>2011 people per sq. km</th>\n",
              "      <th>Estimated Population mid-2001</th>\n",
              "      <th>2001 people per sq. km</th>\n",
              "    </tr>\n",
              "  </thead>\n",
              "  <tbody>\n",
              "    <tr>\n",
              "      <th>0</th>\n",
              "      <td>K02000001</td>\n",
              "      <td>UNITED KINGDOM</td>\n",
              "      <td>Country</td>\n",
              "      <td>242740.8699</td>\n",
              "      <td>67026292</td>\n",
              "      <td>276.122814</td>\n",
              "      <td>63285145</td>\n",
              "      <td>260.710712</td>\n",
              "      <td>59113016</td>\n",
              "      <td>243.523128</td>\n",
              "    </tr>\n",
              "    <tr>\n",
              "      <th>1</th>\n",
              "      <td>K03000001</td>\n",
              "      <td>GREAT BRITAIN</td>\n",
              "      <td>Country</td>\n",
              "      <td>228947.9193</td>\n",
              "      <td>65121729</td>\n",
              "      <td>284.439052</td>\n",
              "      <td>61470827</td>\n",
              "      <td>268.492621</td>\n",
              "      <td>57424178</td>\n",
              "      <td>250.817645</td>\n",
              "    </tr>\n",
              "    <tr>\n",
              "      <th>2</th>\n",
              "      <td>K04000001</td>\n",
              "      <td>ENGLAND AND WALES</td>\n",
              "      <td>Country</td>\n",
              "      <td>151046.9877</td>\n",
              "      <td>59641829</td>\n",
              "      <td>394.856130</td>\n",
              "      <td>56170927</td>\n",
              "      <td>371.877175</td>\n",
              "      <td>52359978</td>\n",
              "      <td>346.646953</td>\n",
              "    </tr>\n",
              "    <tr>\n",
              "      <th>3</th>\n",
              "      <td>E92000001</td>\n",
              "      <td>ENGLAND</td>\n",
              "      <td>Country</td>\n",
              "      <td>130310.4699</td>\n",
              "      <td>56536419</td>\n",
              "      <td>433.859375</td>\n",
              "      <td>53107169</td>\n",
              "      <td>407.543377</td>\n",
              "      <td>49449746</td>\n",
              "      <td>379.476385</td>\n",
              "    </tr>\n",
              "    <tr>\n",
              "      <th>4</th>\n",
              "      <td>E12000001</td>\n",
              "      <td>NORTH EAST</td>\n",
              "      <td>Region</td>\n",
              "      <td>8580.7865</td>\n",
              "      <td>2646772</td>\n",
              "      <td>308.453310</td>\n",
              "      <td>2596441</td>\n",
              "      <td>302.587764</td>\n",
              "      <td>2540090</td>\n",
              "      <td>296.020650</td>\n",
              "    </tr>\n",
              "    <tr>\n",
              "      <th>...</th>\n",
              "      <td>...</td>\n",
              "      <td>...</td>\n",
              "      <td>...</td>\n",
              "      <td>...</td>\n",
              "      <td>...</td>\n",
              "      <td>...</td>\n",
              "      <td>...</td>\n",
              "      <td>...</td>\n",
              "      <td>...</td>\n",
              "      <td>...</td>\n",
              "    </tr>\n",
              "    <tr>\n",
              "      <th>415</th>\n",
              "      <td>N09000006</td>\n",
              "      <td>Fermanagh and Omagh</td>\n",
              "      <td>Local Government District</td>\n",
              "      <td>2835.9389</td>\n",
              "      <td>116926</td>\n",
              "      <td>41.230084</td>\n",
              "      <td>113501</td>\n",
              "      <td>40.022371</td>\n",
              "      <td>105751</td>\n",
              "      <td>37.289590</td>\n",
              "    </tr>\n",
              "    <tr>\n",
              "      <th>416</th>\n",
              "      <td>N09000007</td>\n",
              "      <td>Lisburn and Castlereagh</td>\n",
              "      <td>Local Government District</td>\n",
              "      <td>503.5760</td>\n",
              "      <td>149272</td>\n",
              "      <td>296.423976</td>\n",
              "      <td>135280</td>\n",
              "      <td>268.638696</td>\n",
              "      <td>124585</td>\n",
              "      <td>247.400591</td>\n",
              "    </tr>\n",
              "    <tr>\n",
              "      <th>417</th>\n",
              "      <td>N09000008</td>\n",
              "      <td>Mid and East Antrim</td>\n",
              "      <td>Local Government District</td>\n",
              "      <td>1044.5278</td>\n",
              "      <td>139127</td>\n",
              "      <td>133.196072</td>\n",
              "      <td>135365</td>\n",
              "      <td>129.594445</td>\n",
              "      <td>127452</td>\n",
              "      <td>122.018772</td>\n",
              "    </tr>\n",
              "    <tr>\n",
              "      <th>418</th>\n",
              "      <td>N09000009</td>\n",
              "      <td>Mid Ulster</td>\n",
              "      <td>Local Government District</td>\n",
              "      <td>1823.0343</td>\n",
              "      <td>150598</td>\n",
              "      <td>82.608429</td>\n",
              "      <td>139011</td>\n",
              "      <td>76.252542</td>\n",
              "      <td>119112</td>\n",
              "      <td>65.337224</td>\n",
              "    </tr>\n",
              "    <tr>\n",
              "      <th>419</th>\n",
              "      <td>N09000010</td>\n",
              "      <td>Newry, Mourne and Down</td>\n",
              "      <td>Local Government District</td>\n",
              "      <td>1628.2772</td>\n",
              "      <td>182345</td>\n",
              "      <td>111.986460</td>\n",
              "      <td>172276</td>\n",
              "      <td>105.802624</td>\n",
              "      <td>153726</td>\n",
              "      <td>94.410215</td>\n",
              "    </tr>\n",
              "  </tbody>\n",
              "</table>\n",
              "<p>420 rows × 10 columns</p>\n",
              "</div>\n",
              "    <div class=\"colab-df-buttons\">\n",
              "\n",
              "  <div class=\"colab-df-container\">\n",
              "    <button class=\"colab-df-convert\" onclick=\"convertToInteractive('df-ea80da92-0099-45d8-8e34-150af7e7e0ad')\"\n",
              "            title=\"Convert this dataframe to an interactive table.\"\n",
              "            style=\"display:none;\">\n",
              "\n",
              "  <svg xmlns=\"http://www.w3.org/2000/svg\" height=\"24px\" viewBox=\"0 -960 960 960\">\n",
              "    <path d=\"M120-120v-720h720v720H120Zm60-500h600v-160H180v160Zm220 220h160v-160H400v160Zm0 220h160v-160H400v160ZM180-400h160v-160H180v160Zm440 0h160v-160H620v160ZM180-180h160v-160H180v160Zm440 0h160v-160H620v160Z\"/>\n",
              "  </svg>\n",
              "    </button>\n",
              "\n",
              "  <style>\n",
              "    .colab-df-container {\n",
              "      display:flex;\n",
              "      gap: 12px;\n",
              "    }\n",
              "\n",
              "    .colab-df-convert {\n",
              "      background-color: #E8F0FE;\n",
              "      border: none;\n",
              "      border-radius: 50%;\n",
              "      cursor: pointer;\n",
              "      display: none;\n",
              "      fill: #1967D2;\n",
              "      height: 32px;\n",
              "      padding: 0 0 0 0;\n",
              "      width: 32px;\n",
              "    }\n",
              "\n",
              "    .colab-df-convert:hover {\n",
              "      background-color: #E2EBFA;\n",
              "      box-shadow: 0px 1px 2px rgba(60, 64, 67, 0.3), 0px 1px 3px 1px rgba(60, 64, 67, 0.15);\n",
              "      fill: #174EA6;\n",
              "    }\n",
              "\n",
              "    .colab-df-buttons div {\n",
              "      margin-bottom: 4px;\n",
              "    }\n",
              "\n",
              "    [theme=dark] .colab-df-convert {\n",
              "      background-color: #3B4455;\n",
              "      fill: #D2E3FC;\n",
              "    }\n",
              "\n",
              "    [theme=dark] .colab-df-convert:hover {\n",
              "      background-color: #434B5C;\n",
              "      box-shadow: 0px 1px 3px 1px rgba(0, 0, 0, 0.15);\n",
              "      filter: drop-shadow(0px 1px 2px rgba(0, 0, 0, 0.3));\n",
              "      fill: #FFFFFF;\n",
              "    }\n",
              "  </style>\n",
              "\n",
              "    <script>\n",
              "      const buttonEl =\n",
              "        document.querySelector('#df-ea80da92-0099-45d8-8e34-150af7e7e0ad button.colab-df-convert');\n",
              "      buttonEl.style.display =\n",
              "        google.colab.kernel.accessAllowed ? 'block' : 'none';\n",
              "\n",
              "      async function convertToInteractive(key) {\n",
              "        const element = document.querySelector('#df-ea80da92-0099-45d8-8e34-150af7e7e0ad');\n",
              "        const dataTable =\n",
              "          await google.colab.kernel.invokeFunction('convertToInteractive',\n",
              "                                                    [key], {});\n",
              "        if (!dataTable) return;\n",
              "\n",
              "        const docLinkHtml = 'Like what you see? Visit the ' +\n",
              "          '<a target=\"_blank\" href=https://colab.research.google.com/notebooks/data_table.ipynb>data table notebook</a>'\n",
              "          + ' to learn more about interactive tables.';\n",
              "        element.innerHTML = '';\n",
              "        dataTable['output_type'] = 'display_data';\n",
              "        await google.colab.output.renderOutput(dataTable, element);\n",
              "        const docLink = document.createElement('div');\n",
              "        docLink.innerHTML = docLinkHtml;\n",
              "        element.appendChild(docLink);\n",
              "      }\n",
              "    </script>\n",
              "  </div>\n",
              "\n",
              "\n",
              "<div id=\"df-11f8d524-e626-427c-9dd5-55d86390f61e\">\n",
              "  <button class=\"colab-df-quickchart\" onclick=\"quickchart('df-11f8d524-e626-427c-9dd5-55d86390f61e')\"\n",
              "            title=\"Suggest charts.\"\n",
              "            style=\"display:none;\">\n",
              "\n",
              "<svg xmlns=\"http://www.w3.org/2000/svg\" height=\"24px\"viewBox=\"0 0 24 24\"\n",
              "     width=\"24px\">\n",
              "    <g>\n",
              "        <path d=\"M19 3H5c-1.1 0-2 .9-2 2v14c0 1.1.9 2 2 2h14c1.1 0 2-.9 2-2V5c0-1.1-.9-2-2-2zM9 17H7v-7h2v7zm4 0h-2V7h2v10zm4 0h-2v-4h2v4z\"/>\n",
              "    </g>\n",
              "</svg>\n",
              "  </button>\n",
              "\n",
              "<style>\n",
              "  .colab-df-quickchart {\n",
              "      --bg-color: #E8F0FE;\n",
              "      --fill-color: #1967D2;\n",
              "      --hover-bg-color: #E2EBFA;\n",
              "      --hover-fill-color: #174EA6;\n",
              "      --disabled-fill-color: #AAA;\n",
              "      --disabled-bg-color: #DDD;\n",
              "  }\n",
              "\n",
              "  [theme=dark] .colab-df-quickchart {\n",
              "      --bg-color: #3B4455;\n",
              "      --fill-color: #D2E3FC;\n",
              "      --hover-bg-color: #434B5C;\n",
              "      --hover-fill-color: #FFFFFF;\n",
              "      --disabled-bg-color: #3B4455;\n",
              "      --disabled-fill-color: #666;\n",
              "  }\n",
              "\n",
              "  .colab-df-quickchart {\n",
              "    background-color: var(--bg-color);\n",
              "    border: none;\n",
              "    border-radius: 50%;\n",
              "    cursor: pointer;\n",
              "    display: none;\n",
              "    fill: var(--fill-color);\n",
              "    height: 32px;\n",
              "    padding: 0;\n",
              "    width: 32px;\n",
              "  }\n",
              "\n",
              "  .colab-df-quickchart:hover {\n",
              "    background-color: var(--hover-bg-color);\n",
              "    box-shadow: 0 1px 2px rgba(60, 64, 67, 0.3), 0 1px 3px 1px rgba(60, 64, 67, 0.15);\n",
              "    fill: var(--button-hover-fill-color);\n",
              "  }\n",
              "\n",
              "  .colab-df-quickchart-complete:disabled,\n",
              "  .colab-df-quickchart-complete:disabled:hover {\n",
              "    background-color: var(--disabled-bg-color);\n",
              "    fill: var(--disabled-fill-color);\n",
              "    box-shadow: none;\n",
              "  }\n",
              "\n",
              "  .colab-df-spinner {\n",
              "    border: 2px solid var(--fill-color);\n",
              "    border-color: transparent;\n",
              "    border-bottom-color: var(--fill-color);\n",
              "    animation:\n",
              "      spin 1s steps(1) infinite;\n",
              "  }\n",
              "\n",
              "  @keyframes spin {\n",
              "    0% {\n",
              "      border-color: transparent;\n",
              "      border-bottom-color: var(--fill-color);\n",
              "      border-left-color: var(--fill-color);\n",
              "    }\n",
              "    20% {\n",
              "      border-color: transparent;\n",
              "      border-left-color: var(--fill-color);\n",
              "      border-top-color: var(--fill-color);\n",
              "    }\n",
              "    30% {\n",
              "      border-color: transparent;\n",
              "      border-left-color: var(--fill-color);\n",
              "      border-top-color: var(--fill-color);\n",
              "      border-right-color: var(--fill-color);\n",
              "    }\n",
              "    40% {\n",
              "      border-color: transparent;\n",
              "      border-right-color: var(--fill-color);\n",
              "      border-top-color: var(--fill-color);\n",
              "    }\n",
              "    60% {\n",
              "      border-color: transparent;\n",
              "      border-right-color: var(--fill-color);\n",
              "    }\n",
              "    80% {\n",
              "      border-color: transparent;\n",
              "      border-right-color: var(--fill-color);\n",
              "      border-bottom-color: var(--fill-color);\n",
              "    }\n",
              "    90% {\n",
              "      border-color: transparent;\n",
              "      border-bottom-color: var(--fill-color);\n",
              "    }\n",
              "  }\n",
              "</style>\n",
              "\n",
              "  <script>\n",
              "    async function quickchart(key) {\n",
              "      const quickchartButtonEl =\n",
              "        document.querySelector('#' + key + ' button');\n",
              "      quickchartButtonEl.disabled = true;  // To prevent multiple clicks.\n",
              "      quickchartButtonEl.classList.add('colab-df-spinner');\n",
              "      try {\n",
              "        const charts = await google.colab.kernel.invokeFunction(\n",
              "            'suggestCharts', [key], {});\n",
              "      } catch (error) {\n",
              "        console.error('Error during call to suggestCharts:', error);\n",
              "      }\n",
              "      quickchartButtonEl.classList.remove('colab-df-spinner');\n",
              "      quickchartButtonEl.classList.add('colab-df-quickchart-complete');\n",
              "    }\n",
              "    (() => {\n",
              "      let quickchartButtonEl =\n",
              "        document.querySelector('#df-11f8d524-e626-427c-9dd5-55d86390f61e button');\n",
              "      quickchartButtonEl.style.display =\n",
              "        google.colab.kernel.accessAllowed ? 'block' : 'none';\n",
              "    })();\n",
              "  </script>\n",
              "</div>\n",
              "    </div>\n",
              "  </div>\n"
            ]
          },
          "metadata": {},
          "execution_count": 53
        }
      ]
    },
    {
      "cell_type": "code",
      "source": [
        "df.Name.value_counts().sum()"
      ],
      "metadata": {
        "colab": {
          "base_uri": "https://localhost:8080/"
        },
        "id": "T2p7t4YcTqIU",
        "outputId": "f3775e0b-a93b-4e52-d6bb-3ea9db2e6488"
      },
      "execution_count": 54,
      "outputs": [
        {
          "output_type": "execute_result",
          "data": {
            "text/plain": [
              "420"
            ]
          },
          "metadata": {},
          "execution_count": 54
        }
      ]
    },
    {
      "cell_type": "code",
      "source": [
        "df.Geography.value_counts()"
      ],
      "metadata": {
        "colab": {
          "base_uri": "https://localhost:8080/"
        },
        "id": "0vDt0idKVYEY",
        "outputId": "c9e97dfd-40c1-4062-b81c-e09a00be64f5"
      },
      "execution_count": 55,
      "outputs": [
        {
          "output_type": "execute_result",
          "data": {
            "text/plain": [
              "Non-metropolitan District    181\n",
              "Unitary Authority             81\n",
              "Metropolitan District         36\n",
              "London Borough                33\n",
              "Council Area                  32\n",
              "County                        24\n",
              "Local Government District     11\n",
              "Region                         9\n",
              "Country                        7\n",
              "Metropolitan County            6\n",
              "Name: Geography, dtype: int64"
            ]
          },
          "metadata": {},
          "execution_count": 55
        }
      ]
    },
    {
      "cell_type": "code",
      "source": [
        "df.isnull().sum()"
      ],
      "metadata": {
        "colab": {
          "base_uri": "https://localhost:8080/"
        },
        "id": "PIVHzZY-X4Dc",
        "outputId": "ff08b05d-aa09-4373-a6d0-55755e197e76"
      },
      "execution_count": 56,
      "outputs": [
        {
          "output_type": "execute_result",
          "data": {
            "text/plain": [
              "Code                             0\n",
              "Name                             0\n",
              "Geography                        0\n",
              "Area (sq km)                     0\n",
              "Estimated Population mid-2021    0\n",
              "2021 people per sq. km           0\n",
              "Estimated Population mid-2011    0\n",
              "2011 people per sq. km           0\n",
              "Estimated Population mid-2001    0\n",
              "2001 people per sq. km           0\n",
              "dtype: int64"
            ]
          },
          "metadata": {},
          "execution_count": 56
        }
      ]
    },
    {
      "cell_type": "code",
      "source": [
        "df['Geography'].map({'Non-metropolitan District' :  '0',\n",
        "'Unitary Authority':'1',\n",
        "'Metropolitan District':'2',\n",
        "'London Borough':'3',\n",
        "'Council Area':'4',\n",
        "'County':'5',\n",
        "'Local Government District':'6',\n",
        "'Region':'7',\n",
        "'Country':'8',\n",
        "'Metropolitan County':'9'} )"
      ],
      "metadata": {
        "colab": {
          "base_uri": "https://localhost:8080/"
        },
        "id": "Tt0J07NEYJEb",
        "outputId": "bb46c56d-0a5e-4166-c940-6a17ada8edf9"
      },
      "execution_count": 57,
      "outputs": [
        {
          "output_type": "execute_result",
          "data": {
            "text/plain": [
              "0      8\n",
              "1      8\n",
              "2      8\n",
              "3      8\n",
              "4      7\n",
              "      ..\n",
              "415    6\n",
              "416    6\n",
              "417    6\n",
              "418    6\n",
              "419    6\n",
              "Name: Geography, Length: 420, dtype: object"
            ]
          },
          "metadata": {},
          "execution_count": 57
        }
      ]
    },
    {
      "cell_type": "code",
      "source": [
        "df.drop(['Name','Geography'],inplace = True, axis = 1)"
      ],
      "metadata": {
        "id": "YEvYBFJ_YsEB"
      },
      "execution_count": 62,
      "outputs": []
    },
    {
      "cell_type": "code",
      "source": [],
      "metadata": {
        "id": "GSr4usbdbNeC"
      },
      "execution_count": 64,
      "outputs": []
    },
    {
      "cell_type": "code",
      "source": [
        "df.info()"
      ],
      "metadata": {
        "colab": {
          "base_uri": "https://localhost:8080/"
        },
        "id": "eAJqEJOEaKSb",
        "outputId": "cb2c0263-2f28-4fac-9391-854d32a9db9b"
      },
      "execution_count": 65,
      "outputs": [
        {
          "output_type": "stream",
          "name": "stdout",
          "text": [
            "<class 'pandas.core.frame.DataFrame'>\n",
            "RangeIndex: 420 entries, 0 to 419\n",
            "Data columns (total 7 columns):\n",
            " #   Column                         Non-Null Count  Dtype  \n",
            "---  ------                         --------------  -----  \n",
            " 0   Area (sq km)                   420 non-null    float64\n",
            " 1   Estimated Population mid-2021  420 non-null    int64  \n",
            " 2   2021 people per sq. km         420 non-null    float64\n",
            " 3   Estimated Population mid-2011  420 non-null    int64  \n",
            " 4   2011 people per sq. km         420 non-null    float64\n",
            " 5   Estimated Population mid-2001  420 non-null    int64  \n",
            " 6   2001 people per sq. km         420 non-null    float64\n",
            "dtypes: float64(4), int64(3)\n",
            "memory usage: 23.1 KB\n"
          ]
        }
      ]
    },
    {
      "cell_type": "code",
      "source": [
        "X = df.drop(['Estimated Population mid-2021'],axis = 1)\n",
        "y = df['Estimated Population mid-2021']"
      ],
      "metadata": {
        "id": "qCIH184WcXnd"
      },
      "execution_count": 71,
      "outputs": []
    },
    {
      "cell_type": "code",
      "source": [
        "from sklearn.model_selection import train_test_split\n",
        "\n",
        "X_train, X_test, y_train, y_test = train_test_split(\n",
        "    X, y , test_size = 0.30 ,random_state = 42\n",
        ")"
      ],
      "metadata": {
        "id": "Jkrx3V6TbIWG"
      },
      "execution_count": 72,
      "outputs": []
    },
    {
      "cell_type": "code",
      "source": [
        "X_train"
      ],
      "metadata": {
        "colab": {
          "base_uri": "https://localhost:8080/",
          "height": 441
        },
        "id": "RTMQogwVcKnW",
        "outputId": "8723c65a-3d4f-4754-b1de-58d1f85e4cf0"
      },
      "execution_count": 73,
      "outputs": [
        {
          "output_type": "execute_result",
          "data": {
            "text/plain": [
              "     Area (sq km)  2021 people per sq. km  Estimated Population mid-2011  \\\n",
              "29       731.7608               91.800490                          70627   \n",
              "140       30.8507             2555.468758                          76895   \n",
              "392      160.4387              478.064208                          81220   \n",
              "118     1155.7321               82.692174                          89352   \n",
              "114       35.6902             2867.173622                          93085   \n",
              "..            ...                     ...                            ...   \n",
              "71      1307.9377              125.468514                         158683   \n",
              "106      591.7966              166.082401                          85699   \n",
              "270       79.6916             1718.800978                         125852   \n",
              "348      739.4356              157.261836                         109406   \n",
              "102      338.1269              319.593029                          94915   \n",
              "\n",
              "     2011 people per sq. km  Estimated Population mid-2001  \\\n",
              "29                96.516512                          69251   \n",
              "140             2492.488015                          74596   \n",
              "392              506.236962                          84150   \n",
              "118               77.312035                          79631   \n",
              "114             2608.138929                          85584   \n",
              "..                      ...                            ...   \n",
              "71               121.323057                         151467   \n",
              "106              144.811579                          76818   \n",
              "270             1579.237962                         116257   \n",
              "348              147.958795                         103964   \n",
              "102              280.708219                          81738   \n",
              "\n",
              "     2001 people per sq. km  \n",
              "29                94.636116  \n",
              "140             2417.967826  \n",
              "392              524.499388  \n",
              "118               68.900916  \n",
              "114             2397.969190  \n",
              "..                      ...  \n",
              "71               115.805975  \n",
              "106              129.804734  \n",
              "270             1458.836314  \n",
              "348              140.599127  \n",
              "102              241.737643  \n",
              "\n",
              "[294 rows x 6 columns]"
            ],
            "text/html": [
              "\n",
              "  <div id=\"df-b69c7e27-72c5-4359-a612-11396977a6ed\" class=\"colab-df-container\">\n",
              "    <div>\n",
              "<style scoped>\n",
              "    .dataframe tbody tr th:only-of-type {\n",
              "        vertical-align: middle;\n",
              "    }\n",
              "\n",
              "    .dataframe tbody tr th {\n",
              "        vertical-align: top;\n",
              "    }\n",
              "\n",
              "    .dataframe thead th {\n",
              "        text-align: right;\n",
              "    }\n",
              "</style>\n",
              "<table border=\"1\" class=\"dataframe\">\n",
              "  <thead>\n",
              "    <tr style=\"text-align: right;\">\n",
              "      <th></th>\n",
              "      <th>Area (sq km)</th>\n",
              "      <th>2021 people per sq. km</th>\n",
              "      <th>Estimated Population mid-2011</th>\n",
              "      <th>2011 people per sq. km</th>\n",
              "      <th>Estimated Population mid-2001</th>\n",
              "      <th>2001 people per sq. km</th>\n",
              "    </tr>\n",
              "  </thead>\n",
              "  <tbody>\n",
              "    <tr>\n",
              "      <th>29</th>\n",
              "      <td>731.7608</td>\n",
              "      <td>91.800490</td>\n",
              "      <td>70627</td>\n",
              "      <td>96.516512</td>\n",
              "      <td>69251</td>\n",
              "      <td>94.636116</td>\n",
              "    </tr>\n",
              "    <tr>\n",
              "      <th>140</th>\n",
              "      <td>30.8507</td>\n",
              "      <td>2555.468758</td>\n",
              "      <td>76895</td>\n",
              "      <td>2492.488015</td>\n",
              "      <td>74596</td>\n",
              "      <td>2417.967826</td>\n",
              "    </tr>\n",
              "    <tr>\n",
              "      <th>392</th>\n",
              "      <td>160.4387</td>\n",
              "      <td>478.064208</td>\n",
              "      <td>81220</td>\n",
              "      <td>506.236962</td>\n",
              "      <td>84150</td>\n",
              "      <td>524.499388</td>\n",
              "    </tr>\n",
              "    <tr>\n",
              "      <th>118</th>\n",
              "      <td>1155.7321</td>\n",
              "      <td>82.692174</td>\n",
              "      <td>89352</td>\n",
              "      <td>77.312035</td>\n",
              "      <td>79631</td>\n",
              "      <td>68.900916</td>\n",
              "    </tr>\n",
              "    <tr>\n",
              "      <th>114</th>\n",
              "      <td>35.6902</td>\n",
              "      <td>2867.173622</td>\n",
              "      <td>93085</td>\n",
              "      <td>2608.138929</td>\n",
              "      <td>85584</td>\n",
              "      <td>2397.969190</td>\n",
              "    </tr>\n",
              "    <tr>\n",
              "      <th>...</th>\n",
              "      <td>...</td>\n",
              "      <td>...</td>\n",
              "      <td>...</td>\n",
              "      <td>...</td>\n",
              "      <td>...</td>\n",
              "      <td>...</td>\n",
              "    </tr>\n",
              "    <tr>\n",
              "      <th>71</th>\n",
              "      <td>1307.9377</td>\n",
              "      <td>125.468514</td>\n",
              "      <td>158683</td>\n",
              "      <td>121.323057</td>\n",
              "      <td>151467</td>\n",
              "      <td>115.805975</td>\n",
              "    </tr>\n",
              "    <tr>\n",
              "      <th>106</th>\n",
              "      <td>591.7966</td>\n",
              "      <td>166.082401</td>\n",
              "      <td>85699</td>\n",
              "      <td>144.811579</td>\n",
              "      <td>76818</td>\n",
              "      <td>129.804734</td>\n",
              "    </tr>\n",
              "    <tr>\n",
              "      <th>270</th>\n",
              "      <td>79.6916</td>\n",
              "      <td>1718.800978</td>\n",
              "      <td>125852</td>\n",
              "      <td>1579.237962</td>\n",
              "      <td>116257</td>\n",
              "      <td>1458.836314</td>\n",
              "    </tr>\n",
              "    <tr>\n",
              "      <th>348</th>\n",
              "      <td>739.4356</td>\n",
              "      <td>157.261836</td>\n",
              "      <td>109406</td>\n",
              "      <td>147.958795</td>\n",
              "      <td>103964</td>\n",
              "      <td>140.599127</td>\n",
              "    </tr>\n",
              "    <tr>\n",
              "      <th>102</th>\n",
              "      <td>338.1269</td>\n",
              "      <td>319.593029</td>\n",
              "      <td>94915</td>\n",
              "      <td>280.708219</td>\n",
              "      <td>81738</td>\n",
              "      <td>241.737643</td>\n",
              "    </tr>\n",
              "  </tbody>\n",
              "</table>\n",
              "<p>294 rows × 6 columns</p>\n",
              "</div>\n",
              "    <div class=\"colab-df-buttons\">\n",
              "\n",
              "  <div class=\"colab-df-container\">\n",
              "    <button class=\"colab-df-convert\" onclick=\"convertToInteractive('df-b69c7e27-72c5-4359-a612-11396977a6ed')\"\n",
              "            title=\"Convert this dataframe to an interactive table.\"\n",
              "            style=\"display:none;\">\n",
              "\n",
              "  <svg xmlns=\"http://www.w3.org/2000/svg\" height=\"24px\" viewBox=\"0 -960 960 960\">\n",
              "    <path d=\"M120-120v-720h720v720H120Zm60-500h600v-160H180v160Zm220 220h160v-160H400v160Zm0 220h160v-160H400v160ZM180-400h160v-160H180v160Zm440 0h160v-160H620v160ZM180-180h160v-160H180v160Zm440 0h160v-160H620v160Z\"/>\n",
              "  </svg>\n",
              "    </button>\n",
              "\n",
              "  <style>\n",
              "    .colab-df-container {\n",
              "      display:flex;\n",
              "      gap: 12px;\n",
              "    }\n",
              "\n",
              "    .colab-df-convert {\n",
              "      background-color: #E8F0FE;\n",
              "      border: none;\n",
              "      border-radius: 50%;\n",
              "      cursor: pointer;\n",
              "      display: none;\n",
              "      fill: #1967D2;\n",
              "      height: 32px;\n",
              "      padding: 0 0 0 0;\n",
              "      width: 32px;\n",
              "    }\n",
              "\n",
              "    .colab-df-convert:hover {\n",
              "      background-color: #E2EBFA;\n",
              "      box-shadow: 0px 1px 2px rgba(60, 64, 67, 0.3), 0px 1px 3px 1px rgba(60, 64, 67, 0.15);\n",
              "      fill: #174EA6;\n",
              "    }\n",
              "\n",
              "    .colab-df-buttons div {\n",
              "      margin-bottom: 4px;\n",
              "    }\n",
              "\n",
              "    [theme=dark] .colab-df-convert {\n",
              "      background-color: #3B4455;\n",
              "      fill: #D2E3FC;\n",
              "    }\n",
              "\n",
              "    [theme=dark] .colab-df-convert:hover {\n",
              "      background-color: #434B5C;\n",
              "      box-shadow: 0px 1px 3px 1px rgba(0, 0, 0, 0.15);\n",
              "      filter: drop-shadow(0px 1px 2px rgba(0, 0, 0, 0.3));\n",
              "      fill: #FFFFFF;\n",
              "    }\n",
              "  </style>\n",
              "\n",
              "    <script>\n",
              "      const buttonEl =\n",
              "        document.querySelector('#df-b69c7e27-72c5-4359-a612-11396977a6ed button.colab-df-convert');\n",
              "      buttonEl.style.display =\n",
              "        google.colab.kernel.accessAllowed ? 'block' : 'none';\n",
              "\n",
              "      async function convertToInteractive(key) {\n",
              "        const element = document.querySelector('#df-b69c7e27-72c5-4359-a612-11396977a6ed');\n",
              "        const dataTable =\n",
              "          await google.colab.kernel.invokeFunction('convertToInteractive',\n",
              "                                                    [key], {});\n",
              "        if (!dataTable) return;\n",
              "\n",
              "        const docLinkHtml = 'Like what you see? Visit the ' +\n",
              "          '<a target=\"_blank\" href=https://colab.research.google.com/notebooks/data_table.ipynb>data table notebook</a>'\n",
              "          + ' to learn more about interactive tables.';\n",
              "        element.innerHTML = '';\n",
              "        dataTable['output_type'] = 'display_data';\n",
              "        await google.colab.output.renderOutput(dataTable, element);\n",
              "        const docLink = document.createElement('div');\n",
              "        docLink.innerHTML = docLinkHtml;\n",
              "        element.appendChild(docLink);\n",
              "      }\n",
              "    </script>\n",
              "  </div>\n",
              "\n",
              "\n",
              "<div id=\"df-383f5934-4988-4b5c-9f53-5842703cafeb\">\n",
              "  <button class=\"colab-df-quickchart\" onclick=\"quickchart('df-383f5934-4988-4b5c-9f53-5842703cafeb')\"\n",
              "            title=\"Suggest charts.\"\n",
              "            style=\"display:none;\">\n",
              "\n",
              "<svg xmlns=\"http://www.w3.org/2000/svg\" height=\"24px\"viewBox=\"0 0 24 24\"\n",
              "     width=\"24px\">\n",
              "    <g>\n",
              "        <path d=\"M19 3H5c-1.1 0-2 .9-2 2v14c0 1.1.9 2 2 2h14c1.1 0 2-.9 2-2V5c0-1.1-.9-2-2-2zM9 17H7v-7h2v7zm4 0h-2V7h2v10zm4 0h-2v-4h2v4z\"/>\n",
              "    </g>\n",
              "</svg>\n",
              "  </button>\n",
              "\n",
              "<style>\n",
              "  .colab-df-quickchart {\n",
              "      --bg-color: #E8F0FE;\n",
              "      --fill-color: #1967D2;\n",
              "      --hover-bg-color: #E2EBFA;\n",
              "      --hover-fill-color: #174EA6;\n",
              "      --disabled-fill-color: #AAA;\n",
              "      --disabled-bg-color: #DDD;\n",
              "  }\n",
              "\n",
              "  [theme=dark] .colab-df-quickchart {\n",
              "      --bg-color: #3B4455;\n",
              "      --fill-color: #D2E3FC;\n",
              "      --hover-bg-color: #434B5C;\n",
              "      --hover-fill-color: #FFFFFF;\n",
              "      --disabled-bg-color: #3B4455;\n",
              "      --disabled-fill-color: #666;\n",
              "  }\n",
              "\n",
              "  .colab-df-quickchart {\n",
              "    background-color: var(--bg-color);\n",
              "    border: none;\n",
              "    border-radius: 50%;\n",
              "    cursor: pointer;\n",
              "    display: none;\n",
              "    fill: var(--fill-color);\n",
              "    height: 32px;\n",
              "    padding: 0;\n",
              "    width: 32px;\n",
              "  }\n",
              "\n",
              "  .colab-df-quickchart:hover {\n",
              "    background-color: var(--hover-bg-color);\n",
              "    box-shadow: 0 1px 2px rgba(60, 64, 67, 0.3), 0 1px 3px 1px rgba(60, 64, 67, 0.15);\n",
              "    fill: var(--button-hover-fill-color);\n",
              "  }\n",
              "\n",
              "  .colab-df-quickchart-complete:disabled,\n",
              "  .colab-df-quickchart-complete:disabled:hover {\n",
              "    background-color: var(--disabled-bg-color);\n",
              "    fill: var(--disabled-fill-color);\n",
              "    box-shadow: none;\n",
              "  }\n",
              "\n",
              "  .colab-df-spinner {\n",
              "    border: 2px solid var(--fill-color);\n",
              "    border-color: transparent;\n",
              "    border-bottom-color: var(--fill-color);\n",
              "    animation:\n",
              "      spin 1s steps(1) infinite;\n",
              "  }\n",
              "\n",
              "  @keyframes spin {\n",
              "    0% {\n",
              "      border-color: transparent;\n",
              "      border-bottom-color: var(--fill-color);\n",
              "      border-left-color: var(--fill-color);\n",
              "    }\n",
              "    20% {\n",
              "      border-color: transparent;\n",
              "      border-left-color: var(--fill-color);\n",
              "      border-top-color: var(--fill-color);\n",
              "    }\n",
              "    30% {\n",
              "      border-color: transparent;\n",
              "      border-left-color: var(--fill-color);\n",
              "      border-top-color: var(--fill-color);\n",
              "      border-right-color: var(--fill-color);\n",
              "    }\n",
              "    40% {\n",
              "      border-color: transparent;\n",
              "      border-right-color: var(--fill-color);\n",
              "      border-top-color: var(--fill-color);\n",
              "    }\n",
              "    60% {\n",
              "      border-color: transparent;\n",
              "      border-right-color: var(--fill-color);\n",
              "    }\n",
              "    80% {\n",
              "      border-color: transparent;\n",
              "      border-right-color: var(--fill-color);\n",
              "      border-bottom-color: var(--fill-color);\n",
              "    }\n",
              "    90% {\n",
              "      border-color: transparent;\n",
              "      border-bottom-color: var(--fill-color);\n",
              "    }\n",
              "  }\n",
              "</style>\n",
              "\n",
              "  <script>\n",
              "    async function quickchart(key) {\n",
              "      const quickchartButtonEl =\n",
              "        document.querySelector('#' + key + ' button');\n",
              "      quickchartButtonEl.disabled = true;  // To prevent multiple clicks.\n",
              "      quickchartButtonEl.classList.add('colab-df-spinner');\n",
              "      try {\n",
              "        const charts = await google.colab.kernel.invokeFunction(\n",
              "            'suggestCharts', [key], {});\n",
              "      } catch (error) {\n",
              "        console.error('Error during call to suggestCharts:', error);\n",
              "      }\n",
              "      quickchartButtonEl.classList.remove('colab-df-spinner');\n",
              "      quickchartButtonEl.classList.add('colab-df-quickchart-complete');\n",
              "    }\n",
              "    (() => {\n",
              "      let quickchartButtonEl =\n",
              "        document.querySelector('#df-383f5934-4988-4b5c-9f53-5842703cafeb button');\n",
              "      quickchartButtonEl.style.display =\n",
              "        google.colab.kernel.accessAllowed ? 'block' : 'none';\n",
              "    })();\n",
              "  </script>\n",
              "</div>\n",
              "    </div>\n",
              "  </div>\n"
            ]
          },
          "metadata": {},
          "execution_count": 73
        }
      ]
    },
    {
      "cell_type": "code",
      "source": [
        "y_train"
      ],
      "metadata": {
        "colab": {
          "base_uri": "https://localhost:8080/"
        },
        "id": "_oWqSL2Jcz69",
        "outputId": "04bb6b92-d17d-43c3-81d6-a899e90bfeb4"
      },
      "execution_count": 74,
      "outputs": [
        {
          "output_type": "execute_result",
          "data": {
            "text/plain": [
              "29      67176\n",
              "140     78838\n",
              "392     76700\n",
              "118     95570\n",
              "114    102330\n",
              "        ...  \n",
              "71     164105\n",
              "106     98287\n",
              "270    136974\n",
              "348    116285\n",
              "102    108063\n",
              "Name: Estimated Population mid-2021, Length: 294, dtype: int64"
            ]
          },
          "metadata": {},
          "execution_count": 74
        }
      ]
    },
    {
      "cell_type": "code",
      "source": [
        "# Doing Standardisation Process\n",
        "from sklearn.preprocessing import StandardScaler\n",
        "scaler = StandardScaler()"
      ],
      "metadata": {
        "id": "nORKyw8fdQv8"
      },
      "execution_count": 75,
      "outputs": []
    },
    {
      "cell_type": "code",
      "source": [
        "X_train = scaler.fit_transform(X_train)\n",
        "X_test = scaler.fit_transform(X_test)"
      ],
      "metadata": {
        "colab": {
          "base_uri": "https://localhost:8080/"
        },
        "id": "uxps26DbeR1M",
        "outputId": "335fc3d3-f3cb-4821-e5df-6c1d0a78b19e"
      },
      "execution_count": 76,
      "outputs": [
        {
          "output_type": "execute_result",
          "data": {
            "text/plain": [
              "array([[-0.10121122, -0.61512293, -0.14255469, -0.60759687, -0.14173998,\n",
              "        -0.61978017],\n",
              "       [-0.14475791,  0.36174078, -0.14127299,  0.39376499, -0.14056846,\n",
              "         0.46237308],\n",
              "       [-0.13670676, -0.46196635, -0.1403886 , -0.43636009, -0.13847442,\n",
              "        -0.41955997],\n",
              "       ...,\n",
              "       [-0.14172348,  0.02999547, -0.13126209,  0.01208526, -0.13143721,\n",
              "         0.01563219],\n",
              "       [-0.1007344 , -0.589167  , -0.13462502, -0.5860973 , -0.13413159,\n",
              "        -0.59837168],\n",
              "       [-0.12566721, -0.52480141, -0.13758819, -0.53061659, -0.13900308,\n",
              "        -0.55126374]])"
            ]
          },
          "metadata": {},
          "execution_count": 76
        }
      ]
    },
    {
      "cell_type": "code",
      "source": [
        "# in case you want to inverse the transform you have to do this\n",
        "# scaler.inverse_transform(X_train)"
      ],
      "metadata": {
        "id": "kaBrJ0xvecYQ"
      },
      "execution_count": 77,
      "outputs": []
    },
    {
      "cell_type": "code",
      "source": [
        "from sklearn.linear_model import LinearRegression\n",
        "#cross Validation\n",
        "from sklearn.model_selection import cross_val_score"
      ],
      "metadata": {
        "id": "jF_bTQwDe74m"
      },
      "execution_count": 78,
      "outputs": []
    },
    {
      "cell_type": "code",
      "source": [
        "regression = LinearRegression()\n",
        "regression.fit(X_train,y_train)"
      ],
      "metadata": {
        "colab": {
          "base_uri": "https://localhost:8080/",
          "height": 74
        },
        "id": "_GJfJpaffxpg",
        "outputId": "95fda125-e37f-4451-facb-94992d2613e1"
      },
      "execution_count": 85,
      "outputs": [
        {
          "output_type": "execute_result",
          "data": {
            "text/plain": [
              "LinearRegression()"
            ],
            "text/html": [
              "<style>#sk-container-id-1 {color: black;background-color: white;}#sk-container-id-1 pre{padding: 0;}#sk-container-id-1 div.sk-toggleable {background-color: white;}#sk-container-id-1 label.sk-toggleable__label {cursor: pointer;display: block;width: 100%;margin-bottom: 0;padding: 0.3em;box-sizing: border-box;text-align: center;}#sk-container-id-1 label.sk-toggleable__label-arrow:before {content: \"▸\";float: left;margin-right: 0.25em;color: #696969;}#sk-container-id-1 label.sk-toggleable__label-arrow:hover:before {color: black;}#sk-container-id-1 div.sk-estimator:hover label.sk-toggleable__label-arrow:before {color: black;}#sk-container-id-1 div.sk-toggleable__content {max-height: 0;max-width: 0;overflow: hidden;text-align: left;background-color: #f0f8ff;}#sk-container-id-1 div.sk-toggleable__content pre {margin: 0.2em;color: black;border-radius: 0.25em;background-color: #f0f8ff;}#sk-container-id-1 input.sk-toggleable__control:checked~div.sk-toggleable__content {max-height: 200px;max-width: 100%;overflow: auto;}#sk-container-id-1 input.sk-toggleable__control:checked~label.sk-toggleable__label-arrow:before {content: \"▾\";}#sk-container-id-1 div.sk-estimator input.sk-toggleable__control:checked~label.sk-toggleable__label {background-color: #d4ebff;}#sk-container-id-1 div.sk-label input.sk-toggleable__control:checked~label.sk-toggleable__label {background-color: #d4ebff;}#sk-container-id-1 input.sk-hidden--visually {border: 0;clip: rect(1px 1px 1px 1px);clip: rect(1px, 1px, 1px, 1px);height: 1px;margin: -1px;overflow: hidden;padding: 0;position: absolute;width: 1px;}#sk-container-id-1 div.sk-estimator {font-family: monospace;background-color: #f0f8ff;border: 1px dotted black;border-radius: 0.25em;box-sizing: border-box;margin-bottom: 0.5em;}#sk-container-id-1 div.sk-estimator:hover {background-color: #d4ebff;}#sk-container-id-1 div.sk-parallel-item::after {content: \"\";width: 100%;border-bottom: 1px solid gray;flex-grow: 1;}#sk-container-id-1 div.sk-label:hover label.sk-toggleable__label {background-color: #d4ebff;}#sk-container-id-1 div.sk-serial::before {content: \"\";position: absolute;border-left: 1px solid gray;box-sizing: border-box;top: 0;bottom: 0;left: 50%;z-index: 0;}#sk-container-id-1 div.sk-serial {display: flex;flex-direction: column;align-items: center;background-color: white;padding-right: 0.2em;padding-left: 0.2em;position: relative;}#sk-container-id-1 div.sk-item {position: relative;z-index: 1;}#sk-container-id-1 div.sk-parallel {display: flex;align-items: stretch;justify-content: center;background-color: white;position: relative;}#sk-container-id-1 div.sk-item::before, #sk-container-id-1 div.sk-parallel-item::before {content: \"\";position: absolute;border-left: 1px solid gray;box-sizing: border-box;top: 0;bottom: 0;left: 50%;z-index: -1;}#sk-container-id-1 div.sk-parallel-item {display: flex;flex-direction: column;z-index: 1;position: relative;background-color: white;}#sk-container-id-1 div.sk-parallel-item:first-child::after {align-self: flex-end;width: 50%;}#sk-container-id-1 div.sk-parallel-item:last-child::after {align-self: flex-start;width: 50%;}#sk-container-id-1 div.sk-parallel-item:only-child::after {width: 0;}#sk-container-id-1 div.sk-dashed-wrapped {border: 1px dashed gray;margin: 0 0.4em 0.5em 0.4em;box-sizing: border-box;padding-bottom: 0.4em;background-color: white;}#sk-container-id-1 div.sk-label label {font-family: monospace;font-weight: bold;display: inline-block;line-height: 1.2em;}#sk-container-id-1 div.sk-label-container {text-align: center;}#sk-container-id-1 div.sk-container {/* jupyter's `normalize.less` sets `[hidden] { display: none; }` but bootstrap.min.css set `[hidden] { display: none !important; }` so we also need the `!important` here to be able to override the default hidden behavior on the sphinx rendered scikit-learn.org. See: https://github.com/scikit-learn/scikit-learn/issues/21755 */display: inline-block !important;position: relative;}#sk-container-id-1 div.sk-text-repr-fallback {display: none;}</style><div id=\"sk-container-id-1\" class=\"sk-top-container\"><div class=\"sk-text-repr-fallback\"><pre>LinearRegression()</pre><b>In a Jupyter environment, please rerun this cell to show the HTML representation or trust the notebook. <br />On GitHub, the HTML representation is unable to render, please try loading this page with nbviewer.org.</b></div><div class=\"sk-container\" hidden><div class=\"sk-item\"><div class=\"sk-estimator sk-toggleable\"><input class=\"sk-toggleable__control sk-hidden--visually\" id=\"sk-estimator-id-1\" type=\"checkbox\" checked><label for=\"sk-estimator-id-1\" class=\"sk-toggleable__label sk-toggleable__label-arrow\">LinearRegression</label><div class=\"sk-toggleable__content\"><pre>LinearRegression()</pre></div></div></div></div></div>"
            ]
          },
          "metadata": {},
          "execution_count": 85
        }
      ]
    },
    {
      "cell_type": "code",
      "source": [
        "mse = cross_val_score(regression,X_train,y_train,scoring= 'neg_mean_squared_error',cv = 10 )"
      ],
      "metadata": {
        "id": "aWr1JzfVf58J"
      },
      "execution_count": 86,
      "outputs": []
    },
    {
      "cell_type": "code",
      "source": [
        "np.mean(mse)"
      ],
      "metadata": {
        "colab": {
          "base_uri": "https://localhost:8080/"
        },
        "id": "Xws81jEDgxGL",
        "outputId": "178c4fc4-ab25-489e-9070-d9a3df0d7a4a"
      },
      "execution_count": 87,
      "outputs": [
        {
          "output_type": "execute_result",
          "data": {
            "text/plain": [
              "-725027059.906347"
            ]
          },
          "metadata": {},
          "execution_count": 87
        }
      ]
    },
    {
      "cell_type": "code",
      "source": [
        "## prediction\n",
        "reg_pred = regression.predict(X_test)"
      ],
      "metadata": {
        "id": "ZdvmgMtog_ie"
      },
      "execution_count": 88,
      "outputs": []
    },
    {
      "cell_type": "code",
      "source": [
        "reg_pred"
      ],
      "metadata": {
        "colab": {
          "base_uri": "https://localhost:8080/"
        },
        "id": "urdyek1yhh8G",
        "outputId": "693a87dd-3506-4c4e-aed9-925ec814429f"
      },
      "execution_count": 89,
      "outputs": [
        {
          "output_type": "execute_result",
          "data": {
            "text/plain": [
              "array([1.29166150e+05, 8.41991563e+04, 1.47807530e+06, 6.18407291e+04,\n",
              "       1.45125828e+05, 5.36018578e+04, 8.94457557e+05, 1.13028284e+05,\n",
              "       5.46056702e+04, 5.75352961e+04, 9.46407557e+04, 8.10094898e+05,\n",
              "       2.42817075e+05, 3.43999975e+05, 2.70703593e+05, 3.47780348e+05,\n",
              "       3.27476883e+05, 9.20777370e+06, 9.40800795e+04, 3.39496789e+05,\n",
              "       1.07536496e+05, 3.00355606e+05, 5.62062666e+05, 2.15142409e+05,\n",
              "       1.12475247e+05, 7.30539326e+04, 1.42915852e+06, 1.13586320e+05,\n",
              "       1.17440827e+05, 2.70345699e+05, 1.38948448e+05, 9.68145738e+04,\n",
              "       9.29240297e+04, 1.51490547e+05, 1.29969990e+05, 6.51904901e+04,\n",
              "       2.64397843e+05, 2.93764649e+05, 1.71801582e+05, 1.04263423e+05,\n",
              "       8.98336870e+04, 1.42069129e+06, 1.19470315e+05, 2.94908108e+05,\n",
              "       1.43205017e+05, 5.52484991e+06, 1.15029868e+06, 1.61449806e+05,\n",
              "       3.70948244e+05, 2.12153282e+05, 3.18981912e+05, 1.12828325e+05,\n",
              "       6.70627641e+07, 1.56982580e+05, 1.54331127e+05, 1.25308904e+05,\n",
              "       1.29858936e+05, 1.24057842e+05, 2.46007117e+05, 5.63466106e+05,\n",
              "       9.72160273e+04, 1.00487358e+05, 5.16866880e+05, 8.66673923e+04,\n",
              "       1.04249551e+05, 1.34429685e+05, 1.58578959e+05, 3.35822409e+05,\n",
              "       1.81470627e+05, 1.87976608e+05, 1.11608347e+05, 1.93546001e+05,\n",
              "       1.29333234e+05, 8.28027169e+04, 3.43545258e+05, 8.07244319e+04,\n",
              "       1.17045872e+05, 4.02227926e+05, 9.21478845e+04, 1.92193167e+06,\n",
              "       1.51766949e+05, 2.17947763e+05, 2.14665539e+05, 2.79982758e+05,\n",
              "       1.79408771e+05, 1.77370409e+05, 1.07054795e+05, 4.51428518e+05,\n",
              "       1.42616791e+05, 7.14707166e+04, 1.28150573e+05, 2.86308069e+05,\n",
              "       2.79431235e+05, 1.06185113e+05, 1.41703864e+05, 5.36792457e+05,\n",
              "       1.15320222e+05, 1.62425141e+05, 2.42094003e+04, 1.30417772e+05,\n",
              "       9.61870481e+04, 1.51496347e+05, 1.66270747e+05, 1.21505320e+05,\n",
              "       9.09759343e+04, 5.64001856e+07, 7.39640340e+06, 8.82083065e+04,\n",
              "       1.81896690e+05, 1.58046125e+05, 2.65103187e+05, 3.53342645e+05,\n",
              "       5.96215748e+04, 6.55675976e+04, 1.60036093e+05, 1.17804049e+05,\n",
              "       3.85264173e+05, 8.84310422e+04, 1.54231902e+05, 1.00483417e+05,\n",
              "       9.58052925e+04, 9.12094005e+05, 2.35865242e+05, 5.35183054e+04,\n",
              "       1.03610238e+05, 1.42256729e+05])"
            ]
          },
          "metadata": {},
          "execution_count": 89
        }
      ]
    },
    {
      "cell_type": "code",
      "source": [
        "import seaborn as sns\n",
        "sns.displot(reg_pred - y_test,kind = 'kde')"
      ],
      "metadata": {
        "colab": {
          "base_uri": "https://localhost:8080/",
          "height": 523
        },
        "id": "pUKZOUachkEw",
        "outputId": "e8d8c6d3-cb01-4359-c3d3-1bc54d175deb"
      },
      "execution_count": 91,
      "outputs": [
        {
          "output_type": "execute_result",
          "data": {
            "text/plain": [
              "<seaborn.axisgrid.FacetGrid at 0x7a33d4bddcc0>"
            ]
          },
          "metadata": {},
          "execution_count": 91
        },
        {
          "output_type": "display_data",
          "data": {
            "text/plain": [
              "<Figure size 500x500 with 1 Axes>"
            ],
            "image/png": "[encoded data removed]"
          },
          "metadata": {}
        }
      ]
    },
    {
      "cell_type": "code",
      "source": [
        "from sklearn.metrics import r2_score"
      ],
      "metadata": {
        "id": "elZmJWZRhylw"
      },
      "execution_count": 92,
      "outputs": []
    },
    {
      "cell_type": "code",
      "source": [
        "score = r2_score(reg_pred,y_test)\n",
        "score"
      ],
      "metadata": {
        "colab": {
          "base_uri": "https://localhost:8080/"
        },
        "id": "6TZ4X6NmiN3z",
        "outputId": "0e04bb4f-4b26-447d-c6e5-57aa99aa311d"
      },
      "execution_count": 93,
      "outputs": [
        {
          "output_type": "execute_result",
          "data": {
            "text/plain": [
              "0.9999950032083056"
            ]
          },
          "metadata": {},
          "execution_count": 93
        }
      ]
    },
    {
      "cell_type": "code",
      "source": [],
      "metadata": {
        "id": "uUJ-yRohiXT8"
      },
      "execution_count": null,
      "outputs": []
    }
  ]
}